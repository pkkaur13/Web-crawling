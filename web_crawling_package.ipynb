{
  "nbformat": 4,
  "nbformat_minor": 0,
  "metadata": {
    "colab": {
      "provenance": []
    },
    "kernelspec": {
      "name": "python3",
      "display_name": "Python 3"
    },
    "language_info": {
      "name": "python"
    }
  },
  "cells": [
    {
      "cell_type": "code",
      "source": [
        "!pip install emailcrawl1"
      ],
      "metadata": {
        "id": "3gDUwXRw48dX"
      },
      "execution_count": null,
      "outputs": []
    },
    {
      "cell_type": "code",
      "source": [
        "!pip install requests_html"
      ],
      "metadata": {
        "id": "5udb98MHzzrz"
      },
      "execution_count": null,
      "outputs": []
    },
    {
      "cell_type": "code",
      "source": [
        "from emailcrawl1 import emailcrawl1"
      ],
      "metadata": {
        "id": "Rh9rQUpx4_Oa"
      },
      "execution_count": 3,
      "outputs": []
    },
    {
      "cell_type": "code",
      "source": [
        "emailcrawl1.email(\"https://thapar.edu/sitemap.xml\",50)"
      ],
      "metadata": {
        "id": "PXV-uQ_n5NXV",
        "collapsed": true,
        "colab": {
          "base_uri": "https://localhost:8080/"
        },
        "outputId": "61de8b1c-6709-488e-f54b-8130cf278d21"
      },
      "execution_count": 6,
      "outputs": [
        {
          "output_type": "stream",
          "name": "stderr",
          "text": [
            "  1%|          | 53/4342 [00:38<51:40,  1.38it/s]\n"
          ]
        }
      ]
    }
  ]
}